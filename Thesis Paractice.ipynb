{
  "nbformat": 4,
  "nbformat_minor": 0,
  "metadata": {
    "colab": {
      "name": "Untitled0.ipynb",
      "provenance": [],
      "collapsed_sections": [],
      "authorship_tag": "ABX9TyM+9k0zNxnxD4mF+WetK720",
      "include_colab_link": true
    },
    "kernelspec": {
      "name": "python3",
      "display_name": "Python 3"
    },
    "language_info": {
      "name": "python"
    }
  },
  "cells": [
    {
      "cell_type": "markdown",
      "metadata": {
        "id": "view-in-github",
        "colab_type": "text"
      },
      "source": [
        "<a href=\"https://colab.research.google.com/github/Tayyab-Shehzad/BOOTCAMP2020/blob/master/Thesis%20Paractice.ipynb\" target=\"_parent\"><img src=\"https://colab.research.google.com/assets/colab-badge.svg\" alt=\"Open In Colab\"/></a>"
      ]
    },
    {
      "cell_type": "code",
      "metadata": {
        "colab": {
          "resources": {
            "http://localhost:8080/nbextensions/google.colab/files.js": {
              "data": "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",
              "ok": true,
              "headers": [
                [
                  "content-type",
                  "application/javascript"
                ]
              ],
              "status": 200,
              "status_text": ""
            }
          },
          "base_uri": "https://localhost:8080/",
          "height": 90
        },
        "id": "JLWFpK-RNEUz",
        "outputId": "34ce3ba8-fe61-438f-d2d4-246bc571832f"
      },
      "source": [
        "from google.colab import files\n",
        "\n",
        "uploaded = files.upload()\n",
        "\n",
        "for fn in uploaded.keys():\n",
        "  print('User uploaded file \"{name}\" with length {length} bytes'.format(\n",
        "      name=fn, length=len(uploaded[fn])))"
      ],
      "execution_count": 1,
      "outputs": [
        {
          "output_type": "display_data",
          "data": {
            "text/html": [
              "\n",
              "     <input type=\"file\" id=\"files-65a131bf-4d46-4b88-a797-9ef417c78f4f\" name=\"files[]\" multiple disabled\n",
              "        style=\"border:none\" />\n",
              "     <output id=\"result-65a131bf-4d46-4b88-a797-9ef417c78f4f\">\n",
              "      Upload widget is only available when the cell has been executed in the\n",
              "      current browser session. Please rerun this cell to enable.\n",
              "      </output>\n",
              "      <script src=\"/nbextensions/google.colab/files.js\"></script> "
            ],
            "text/plain": [
              "<IPython.core.display.HTML object>"
            ]
          },
          "metadata": {}
        },
        {
          "output_type": "stream",
          "name": "stdout",
          "text": [
            "Saving tweets_thesis (1).csv to tweets_thesis (1).csv\n",
            "User uploaded file \"tweets_thesis (1).csv\" with length 6888934 bytes\n"
          ]
        }
      ]
    },
    {
      "cell_type": "code",
      "metadata": {
        "colab": {
          "base_uri": "https://localhost:8080/"
        },
        "id": "HgsXCxmHOcoM",
        "outputId": "67b1ab44-7522-4fb8-b1b9-7f25223b1d46"
      },
      "source": [
        "import io\n",
        "import pandas as pd \n",
        "import numpy as np\n",
        "from numpy import mean\n",
        "from numpy import std\n",
        "\n",
        "import nltk\n",
        "nltk.download('stopwords')\n",
        "nltk.download('wordnet')\n",
        "from nltk.corpus import stopwords\n",
        "from nltk.stem import PorterStemmer\n",
        "from wordcloud import WordCloud, STOPWORDS\n",
        "\n",
        "#import reguler expression \n",
        "import re\n",
        "\n",
        "#import sklearn preprocessing \n",
        "from sklearn.pipeline import Pipeline\n",
        "from sklearn.feature_extraction.text import CountVectorizer\n",
        "from sklearn.feature_extraction.text import TfidfTransformer\n",
        "from sklearn.feature_extraction.text import TfidfVectorizer\n",
        "from sklearn.feature_selection import chi2\n",
        "from sklearn.feature_selection import mutual_info_classif\n",
        "from sklearn.feature_selection import SelectKBest\n",
        "\n",
        "#import sklearn for modeling\n",
        "from sklearn.ensemble import RandomForestClassifier\n",
        "from sklearn.linear_model import LogisticRegression\n",
        "from sklearn import model_selection, svm, naive_bayes\n",
        "from sklearn.model_selection import train_test_split\n",
        "\n",
        "#sklearn for stacking\n",
        "from sklearn import model_selection\n",
        "from mlxtend.classifier import StackingClassifier\n",
        "\n",
        "#import sklearn for model evaluation \n",
        "from sklearn.metrics import confusion_matrix, classification_report\n",
        "from sklearn.metrics import accuracy_score, precision_score, recall_score, f1_score\n",
        "\n",
        "#visualization \n",
        "import matplotlib.pyplot as plt\n",
        "import seaborn as sns \n",
        "%matplotlib inline\n",
        "\n",
        "import warnings\n",
        "warnings.filterwarnings('ignore')"
      ],
      "execution_count": 2,
      "outputs": [
        {
          "output_type": "stream",
          "name": "stdout",
          "text": [
            "[nltk_data] Downloading package stopwords to /root/nltk_data...\n",
            "[nltk_data]   Unzipping corpora/stopwords.zip.\n",
            "[nltk_data] Downloading package wordnet to /root/nltk_data...\n",
            "[nltk_data]   Unzipping corpora/wordnet.zip.\n"
          ]
        },
        {
          "output_type": "stream",
          "name": "stderr",
          "text": [
            "/usr/local/lib/python3.7/dist-packages/sklearn/externals/six.py:31: FutureWarning: The module is deprecated in version 0.21 and will be removed in version 0.23 since we've dropped support for Python 2.7. Please rely on the official version of six (https://pypi.org/project/six/).\n",
            "  \"(https://pypi.org/project/six/).\", FutureWarning)\n"
          ]
        }
      ]
    },
    {
      "cell_type": "code",
      "metadata": {
        "colab": {
          "base_uri": "https://localhost:8080/",
          "height": 206
        },
        "id": "Pv_gmmBzN_3Y",
        "outputId": "087109b4-8f57-4a2f-f4f1-2243383a0e30"
      },
      "source": [
        "df =pd.read_csv(io.StringIO(uploaded['tweets_thesis (1).csv'].decode('utf-8')))\n",
        "df.head()"
      ],
      "execution_count": 3,
      "outputs": [
        {
          "output_type": "execute_result",
          "data": {
            "text/html": [
              "<div>\n",
              "<style scoped>\n",
              "    .dataframe tbody tr th:only-of-type {\n",
              "        vertical-align: middle;\n",
              "    }\n",
              "\n",
              "    .dataframe tbody tr th {\n",
              "        vertical-align: top;\n",
              "    }\n",
              "\n",
              "    .dataframe thead th {\n",
              "        text-align: right;\n",
              "    }\n",
              "</style>\n",
              "<table border=\"1\" class=\"dataframe\">\n",
              "  <thead>\n",
              "    <tr style=\"text-align: right;\">\n",
              "      <th></th>\n",
              "      <th>clean_comment</th>\n",
              "      <th>category</th>\n",
              "    </tr>\n",
              "  </thead>\n",
              "  <tbody>\n",
              "    <tr>\n",
              "      <th>0</th>\n",
              "      <td>family mormon have never tried explain them t...</td>\n",
              "      <td>1</td>\n",
              "    </tr>\n",
              "    <tr>\n",
              "      <th>1</th>\n",
              "      <td>buddhism has very much lot compatible with chr...</td>\n",
              "      <td>1</td>\n",
              "    </tr>\n",
              "    <tr>\n",
              "      <th>2</th>\n",
              "      <td>seriously don say thing first all they won get...</td>\n",
              "      <td>-1</td>\n",
              "    </tr>\n",
              "    <tr>\n",
              "      <th>3</th>\n",
              "      <td>what you have learned yours and only yours wha...</td>\n",
              "      <td>0</td>\n",
              "    </tr>\n",
              "    <tr>\n",
              "      <th>4</th>\n",
              "      <td>for your own benefit you may want read living ...</td>\n",
              "      <td>1</td>\n",
              "    </tr>\n",
              "  </tbody>\n",
              "</table>\n",
              "</div>"
            ],
            "text/plain": [
              "                                       clean_comment  category\n",
              "0   family mormon have never tried explain them t...         1\n",
              "1  buddhism has very much lot compatible with chr...         1\n",
              "2  seriously don say thing first all they won get...        -1\n",
              "3  what you have learned yours and only yours wha...         0\n",
              "4  for your own benefit you may want read living ...         1"
            ]
          },
          "metadata": {},
          "execution_count": 3
        }
      ]
    },
    {
      "cell_type": "code",
      "metadata": {
        "colab": {
          "base_uri": "https://localhost:8080/"
        },
        "id": "H9lgnc1xO51Q",
        "outputId": "d0ca84ab-6dc7-4d21-a374-221f137412a3"
      },
      "source": [
        "df.isnull().sum()"
      ],
      "execution_count": 4,
      "outputs": [
        {
          "output_type": "execute_result",
          "data": {
            "text/plain": [
              "clean_comment    100\n",
              "category           0\n",
              "dtype: int64"
            ]
          },
          "metadata": {},
          "execution_count": 4
        }
      ]
    },
    {
      "cell_type": "code",
      "metadata": {
        "colab": {
          "base_uri": "https://localhost:8080/"
        },
        "id": "IKPs6t0aQGSb",
        "outputId": "881df315-3f80-4a74-9e85-d2a834f12e0c"
      },
      "source": [
        "df_drop = df.dropna()\n",
        "df_drop.shape"
      ],
      "execution_count": 5,
      "outputs": [
        {
          "output_type": "execute_result",
          "data": {
            "text/plain": [
              "(37149, 2)"
            ]
          },
          "metadata": {},
          "execution_count": 5
        }
      ]
    },
    {
      "cell_type": "code",
      "metadata": {
        "colab": {
          "base_uri": "https://localhost:8080/"
        },
        "id": "Bqp4MEz_QN9n",
        "outputId": "f05c12a2-7999-40b5-80d5-16c8253e2cba"
      },
      "source": [
        "df_drop = df_drop.drop_duplicates()\n",
        "df_drop.shape"
      ],
      "execution_count": 6,
      "outputs": [
        {
          "output_type": "execute_result",
          "data": {
            "text/plain": [
              "(36799, 2)"
            ]
          },
          "metadata": {},
          "execution_count": 6
        }
      ]
    },
    {
      "cell_type": "code",
      "metadata": {
        "colab": {
          "base_uri": "https://localhost:8080/",
          "height": 143
        },
        "id": "cCzdh8_4QXkX",
        "outputId": "77a10298-564d-4357-9451-23decc4f58c2"
      },
      "source": [
        "#count sentiment \n",
        "sentiment = df_drop.groupby(['category'])['category'].count()\n",
        "sentiment\n",
        "\n",
        "#make dataframe that will be created a chart \n",
        "chart = pd.DataFrame(sentiment)\n",
        "chart['tweet_count'] = chart['category']\n",
        "chart.drop(['category'], axis = 1, inplace = True )\n",
        "chart = chart.reset_index()\n",
        "\n",
        "#make a proportion of the number of tweet of each sentiment \n",
        "chart['percent'] = chart['tweet_count']/chart['tweet_count'].sum()\n",
        "chart"
      ],
      "execution_count": 7,
      "outputs": [
        {
          "output_type": "execute_result",
          "data": {
            "text/html": [
              "<div>\n",
              "<style scoped>\n",
              "    .dataframe tbody tr th:only-of-type {\n",
              "        vertical-align: middle;\n",
              "    }\n",
              "\n",
              "    .dataframe tbody tr th {\n",
              "        vertical-align: top;\n",
              "    }\n",
              "\n",
              "    .dataframe thead th {\n",
              "        text-align: right;\n",
              "    }\n",
              "</style>\n",
              "<table border=\"1\" class=\"dataframe\">\n",
              "  <thead>\n",
              "    <tr style=\"text-align: right;\">\n",
              "      <th></th>\n",
              "      <th>category</th>\n",
              "      <th>tweet_count</th>\n",
              "      <th>percent</th>\n",
              "    </tr>\n",
              "  </thead>\n",
              "  <tbody>\n",
              "    <tr>\n",
              "      <th>0</th>\n",
              "      <td>-1</td>\n",
              "      <td>8250</td>\n",
              "      <td>0.224191</td>\n",
              "    </tr>\n",
              "    <tr>\n",
              "      <th>1</th>\n",
              "      <td>0</td>\n",
              "      <td>12778</td>\n",
              "      <td>0.347238</td>\n",
              "    </tr>\n",
              "    <tr>\n",
              "      <th>2</th>\n",
              "      <td>1</td>\n",
              "      <td>15771</td>\n",
              "      <td>0.428571</td>\n",
              "    </tr>\n",
              "  </tbody>\n",
              "</table>\n",
              "</div>"
            ],
            "text/plain": [
              "   category  tweet_count   percent\n",
              "0        -1         8250  0.224191\n",
              "1         0        12778  0.347238\n",
              "2         1        15771  0.428571"
            ]
          },
          "metadata": {},
          "execution_count": 7
        }
      ]
    },
    {
      "cell_type": "code",
      "metadata": {
        "colab": {
          "base_uri": "https://localhost:8080/",
          "height": 312
        },
        "id": "DD-PB6BwQmbX",
        "outputId": "d6f85d29-5236-4e6b-bc08-9d0e71395bdd"
      },
      "source": [
        "#visualization \n",
        "ax = sns.barplot(x= 'category', y='tweet_count', data=chart)\n",
        "ax.set_title('Sentiment Class')"
      ],
      "execution_count": 8,
      "outputs": [
        {
          "output_type": "execute_result",
          "data": {
            "text/plain": [
              "Text(0.5, 1.0, 'Sentiment Class')"
            ]
          },
          "metadata": {},
          "execution_count": 8
        },
        {
          "output_type": "display_data",
          "data": {
            "image/png": "[encoded data removed]",
            "text/plain": [
              "<Figure size 432x288 with 1 Axes>"
            ]
          },
          "metadata": {
            "needs_background": "light"
          }
        }
      ]
    },
    {
      "cell_type": "code",
      "metadata": {
        "id": "JYNvveCiQs2c"
      },
      "source": [
        "stop = stopwords.words('english')\n",
        "df_drop['clean_comment'] = df_drop['clean_comment'].apply(lambda x: \" \".join(x for x in x.split() if x not in stop))"
      ],
      "execution_count": 9,
      "outputs": []
    },
    {
      "cell_type": "code",
      "metadata": {
        "colab": {
          "base_uri": "https://localhost:8080/",
          "height": 206
        },
        "id": "poxTnD8yRUeg",
        "outputId": "2b638a38-db7d-4a6a-deef-0c3dc86a6a59"
      },
      "source": [
        "df_drop.head(5)"
      ],
      "execution_count": 10,
      "outputs": [
        {
          "output_type": "execute_result",
          "data": {
            "text/html": [
              "<div>\n",
              "<style scoped>\n",
              "    .dataframe tbody tr th:only-of-type {\n",
              "        vertical-align: middle;\n",
              "    }\n",
              "\n",
              "    .dataframe tbody tr th {\n",
              "        vertical-align: top;\n",
              "    }\n",
              "\n",
              "    .dataframe thead th {\n",
              "        text-align: right;\n",
              "    }\n",
              "</style>\n",
              "<table border=\"1\" class=\"dataframe\">\n",
              "  <thead>\n",
              "    <tr style=\"text-align: right;\">\n",
              "      <th></th>\n",
              "      <th>clean_comment</th>\n",
              "      <th>category</th>\n",
              "    </tr>\n",
              "  </thead>\n",
              "  <tbody>\n",
              "    <tr>\n",
              "      <th>0</th>\n",
              "      <td>family mormon never tried explain still stare ...</td>\n",
              "      <td>1</td>\n",
              "    </tr>\n",
              "    <tr>\n",
              "      <th>1</th>\n",
              "      <td>buddhism much lot compatible christianity espe...</td>\n",
              "      <td>1</td>\n",
              "    </tr>\n",
              "    <tr>\n",
              "      <th>2</th>\n",
              "      <td>seriously say thing first get complex explain ...</td>\n",
              "      <td>-1</td>\n",
              "    </tr>\n",
              "    <tr>\n",
              "      <th>3</th>\n",
              "      <td>learned want teach different focus goal wrappi...</td>\n",
              "      <td>0</td>\n",
              "    </tr>\n",
              "    <tr>\n",
              "      <th>4</th>\n",
              "      <td>benefit may want read living buddha living chr...</td>\n",
              "      <td>1</td>\n",
              "    </tr>\n",
              "  </tbody>\n",
              "</table>\n",
              "</div>"
            ],
            "text/plain": [
              "                                       clean_comment  category\n",
              "0  family mormon never tried explain still stare ...         1\n",
              "1  buddhism much lot compatible christianity espe...         1\n",
              "2  seriously say thing first get complex explain ...        -1\n",
              "3  learned want teach different focus goal wrappi...         0\n",
              "4  benefit may want read living buddha living chr...         1"
            ]
          },
          "metadata": {},
          "execution_count": 10
        }
      ]
    },
    {
      "cell_type": "code",
      "metadata": {
        "colab": {
          "base_uri": "https://localhost:8080/"
        },
        "id": "B7I0eqWnSJLL",
        "outputId": "21ba1f38-186a-4ff0-a934-ec80fffde0e4"
      },
      "source": [
        "rare_word = pd.Series(' '.join(df_drop['clean_comment']).split()).value_counts()[-100:]\n",
        "print(len(rare_word))\n",
        "rare_word"
      ],
      "execution_count": 15,
      "outputs": [
        {
          "output_type": "stream",
          "name": "stdout",
          "text": [
            "100\n"
          ]
        },
        {
          "output_type": "execute_result",
          "data": {
            "text/plain": [
              "fuccking        1\n",
              "opacity         1\n",
              "119030100873    1\n",
              "koan            1\n",
              "pater           1\n",
              "               ..\n",
              "basements       1\n",
              "crawl           1\n",
              "nayeons         1\n",
              "“most           1\n",
              "fsu             1\n",
              "Length: 100, dtype: int64"
            ]
          },
          "metadata": {},
          "execution_count": 15
        }
      ]
    },
    {
      "cell_type": "code",
      "metadata": {
        "colab": {
          "base_uri": "https://localhost:8080/"
        },
        "id": "WCYdzwDDcTV7",
        "outputId": "a9d43c0d-ab7c-4a91-fc63-86b8fb65bfca"
      },
      "source": [
        "rare_word = list(rare_word.index)\n",
        "df_drop['clean_comment'] = df_drop['clean_comment'].apply(lambda x: \" \".join(x for x in x.split() if x not in rare_word))\n",
        "df_drop['clean_comment'].head(5)"
      ],
      "execution_count": 16,
      "outputs": [
        {
          "output_type": "execute_result",
          "data": {
            "text/plain": [
              "0    family mormon never tried explain still stare ...\n",
              "1    buddhism much lot compatible christianity espe...\n",
              "2    seriously say thing first get complex explain ...\n",
              "3    learned want teach different focus goal wrappi...\n",
              "4    benefit may want read living buddha living chr...\n",
              "Name: clean_comment, dtype: object"
            ]
          },
          "metadata": {},
          "execution_count": 16
        }
      ]
    },
    {
      "cell_type": "code",
      "metadata": {
        "id": "ChjSNSfCcXoU"
      },
      "source": [
        "st = PorterStemmer()\n",
        "df_drop['clean_comment'] = df_drop['clean_comment'][:].apply(lambda x: \" \".join([st.stem(word) for word in x.split()]))"
      ],
      "execution_count": 17,
      "outputs": []
    },
    {
      "cell_type": "code",
      "metadata": {
        "colab": {
          "base_uri": "https://localhost:8080/",
          "height": 206
        },
        "id": "9X2far8UcdlQ",
        "outputId": "dcfc27fb-a97a-4eb7-bfa1-2691bcd9d8c1"
      },
      "source": [
        "df_drop.head(5)"
      ],
      "execution_count": 18,
      "outputs": [
        {
          "output_type": "execute_result",
          "data": {
            "text/html": [
              "<div>\n",
              "<style scoped>\n",
              "    .dataframe tbody tr th:only-of-type {\n",
              "        vertical-align: middle;\n",
              "    }\n",
              "\n",
              "    .dataframe tbody tr th {\n",
              "        vertical-align: top;\n",
              "    }\n",
              "\n",
              "    .dataframe thead th {\n",
              "        text-align: right;\n",
              "    }\n",
              "</style>\n",
              "<table border=\"1\" class=\"dataframe\">\n",
              "  <thead>\n",
              "    <tr style=\"text-align: right;\">\n",
              "      <th></th>\n",
              "      <th>clean_comment</th>\n",
              "      <th>category</th>\n",
              "    </tr>\n",
              "  </thead>\n",
              "  <tbody>\n",
              "    <tr>\n",
              "      <th>0</th>\n",
              "      <td>famili mormon never tri explain still stare pu...</td>\n",
              "      <td>1</td>\n",
              "    </tr>\n",
              "    <tr>\n",
              "      <th>1</th>\n",
              "      <td>buddhism much lot compat christian especi cons...</td>\n",
              "      <td>1</td>\n",
              "    </tr>\n",
              "    <tr>\n",
              "      <th>2</th>\n",
              "      <td>serious say thing first get complex explain no...</td>\n",
              "      <td>-1</td>\n",
              "    </tr>\n",
              "    <tr>\n",
              "      <th>3</th>\n",
              "      <td>learn want teach differ focu goal wrap paper b...</td>\n",
              "      <td>0</td>\n",
              "    </tr>\n",
              "    <tr>\n",
              "      <th>4</th>\n",
              "      <td>benefit may want read live buddha live christ ...</td>\n",
              "      <td>1</td>\n",
              "    </tr>\n",
              "  </tbody>\n",
              "</table>\n",
              "</div>"
            ],
            "text/plain": [
              "                                       clean_comment  category\n",
              "0  famili mormon never tri explain still stare pu...         1\n",
              "1  buddhism much lot compat christian especi cons...         1\n",
              "2  serious say thing first get complex explain no...        -1\n",
              "3  learn want teach differ focu goal wrap paper b...         0\n",
              "4  benefit may want read live buddha live christ ...         1"
            ]
          },
          "metadata": {},
          "execution_count": 18
        }
      ]
    },
    {
      "cell_type": "markdown",
      "metadata": {
        "id": "bUHlhmhge1DI"
      },
      "source": [
        "TF/IDF"
      ]
    },
    {
      "cell_type": "code",
      "metadata": {
        "id": "UJhUjCp7gcFC",
        "colab": {
          "base_uri": "https://localhost:8080/"
        },
        "outputId": "781fc16b-0e29-46b1-97d3-713d537e674e"
      },
      "source": [
        "from nltk.tokenize import RegexpTokenizer\n",
        "#tokenizer to remove unwanted elements from out data like symbols and numbers\n",
        "token = RegexpTokenizer(r'[a-zA-Z0-9]+')\n",
        "tf = TfidfVectorizer(min_df=5, max_df=0.90, sublinear_tf = True,use_idf = True,ngram_range=(1,1),tokenizer = token.tokenize)\n",
        "text_tf = tf.fit_transform(df_drop['clean_comment'])\n",
        "np.shape(text_tf)"
      ],
      "execution_count": 22,
      "outputs": [
        {
          "output_type": "execute_result",
          "data": {
            "text/plain": [
              "(36799, 9497)"
            ]
          },
          "metadata": {},
          "execution_count": 22
        }
      ]
    },
    {
      "cell_type": "markdown",
      "metadata": {
        "id": "MlYQyO4He-vc"
      },
      "source": [
        "Bag of Words"
      ]
    },
    {
      "cell_type": "code",
      "metadata": {
        "id": "PGKG4iOecjhJ",
        "colab": {
          "base_uri": "https://localhost:8080/"
        },
        "outputId": "a2ce2825-179c-4ce0-8ef9-23ab84516f50"
      },
      "source": [
        "from nltk.tokenize import RegexpTokenizer\n",
        "#tokenizer to remove unwanted elements from out data like symbols and numbers\n",
        "token = RegexpTokenizer(r'[a-zA-Z0-9]+')\n",
        "cv = CountVectorizer(lowercase=True,stop_words='english',ngram_range = (1,1),tokenizer = token.tokenize)\n",
        "text_counts= cv.fit_transform(df_drop['clean_comment'])\n",
        "np.shape(text_counts)"
      ],
      "execution_count": 23,
      "outputs": [
        {
          "output_type": "execute_result",
          "data": {
            "text/plain": [
              "(36799, 39099)"
            ]
          },
          "metadata": {},
          "execution_count": 23
        }
      ]
    },
    {
      "cell_type": "markdown",
      "metadata": {
        "id": "1ajrq8d_fzKK"
      },
      "source": [
        "Split on TF/IDF"
      ]
    },
    {
      "cell_type": "code",
      "metadata": {
        "id": "sdaCpGDcp3y5"
      },
      "source": [
        "X = text_tf\n",
        "y = df_drop['category']"
      ],
      "execution_count": 24,
      "outputs": []
    },
    {
      "cell_type": "code",
      "metadata": {
        "id": "rvG0iAIfgk5a"
      },
      "source": [
        "from sklearn.model_selection import train_test_split\n",
        "X_train, X_test, y_train, y_test = train_test_split(X, df_drop['category'], test_size=0.3, random_state=123)"
      ],
      "execution_count": 25,
      "outputs": []
    },
    {
      "cell_type": "markdown",
      "metadata": {
        "id": "beuSX147t98Q"
      },
      "source": [
        "Implementation of Mutual Information"
      ]
    },
    {
      "cell_type": "code",
      "metadata": {
        "colab": {
          "base_uri": "https://localhost:8080/"
        },
        "id": "FmtdLM3boU79",
        "outputId": "21cdc137-9801-4c82-f024-672f2bb43aa6"
      },
      "source": [
        "#determine the mutual information\n",
        "mutual_info = mutual_info_classif(X_train, y_train)\n",
        "select_k_features = SelectKBest(mutual_info_classif, k=3000)\n",
        "select_k_features.fit(X_train, y_train)\n",
        "select_k_features.scores_"
      ],
      "execution_count": 26,
      "outputs": [
        {
          "output_type": "execute_result",
          "data": {
            "text/plain": [
              "array([4.23981624e-03, 1.15957677e-04, 8.01696724e-03, ...,\n",
              "       2.88411076e-04, 5.79762368e-05, 4.19702326e-04])"
            ]
          },
          "metadata": {},
          "execution_count": 26
        }
      ]
    },
    {
      "cell_type": "code",
      "metadata": {
        "id": "PISdKq1dth_R"
      },
      "source": [
        "mutual_info_train_X= select_k_features.transform(X_train)\n",
        "mutual_info_test_X= select_k_features.transform(X_test)"
      ],
      "execution_count": 27,
      "outputs": []
    },
    {
      "cell_type": "code",
      "metadata": {
        "id": "gma3QOj8t5-c"
      },
      "source": [
        "Lr_mutual_info = LogisticRegression()\n",
        "Lr_mutual_info.fit(mutual_info_train_X,y_train)\n",
        "Lr_pred_mutual_info_train = Lr_mutual_info.predict(mutual_info_train_X)\n",
        "Lr_pred_mutual_info_test = Lr_mutual_info.predict(mutual_info_test_X)"
      ],
      "execution_count": 28,
      "outputs": []
    },
    {
      "cell_type": "code",
      "metadata": {
        "colab": {
          "base_uri": "https://localhost:8080/"
        },
        "id": "w4EtlsulufE0",
        "outputId": "70c24f28-41a1-4c72-c0e0-cb2386b8911e"
      },
      "source": [
        "print(\"___________________ Logistic Regression With Mutual Information ____________________\")\n",
        "\n",
        "Lr_recall_mutual_info_train = recall_score(y_train, Lr_pred_mutual_info_train, average=\"micro\")\n",
        "Lr_recall_mutual_info_test = recall_score(y_test, Lr_pred_mutual_info_test,average=\"micro\") \n",
        "\n",
        "Lr_precision_mutual_info_train = precision_score(y_train, Lr_pred_mutual_info_train,average=\"micro\")\n",
        "Lr_precision_mutual_info_test = precision_score(y_test, Lr_pred_mutual_info_test,average=\"micro\")\n",
        "\n",
        "Lr_f1_score_mutual_info_train = f1_score(y_train, Lr_pred_mutual_info_train,average=\"micro\")\n",
        "Lr_f1_score_mutual_info_test = f1_score(y_test, Lr_pred_mutual_info_test,average=\"micro\")\n",
        "\n",
        "print('Logistic Regression :')\n",
        "print('Recall train & test     : %.2f%%' % (Lr_recall_mutual_info_train * 100), '&', '%.2f%%' % (Lr_recall_mutual_info_test * 100))\n",
        "print('Precision train & test  : %.2f%%' % (Lr_precision_mutual_info_train * 100), '&', '%.2f%%' % (Lr_precision_mutual_info_test * 100))\n",
        "print('F1 Score train & test   : %.2f%%' % (Lr_f1_score_mutual_info_train * 100), '&', '%.2f%%' % (Lr_f1_score_mutual_info_test * 100))"
      ],
      "execution_count": 30,
      "outputs": [
        {
          "output_type": "stream",
          "name": "stdout",
          "text": [
            "___________________ Logistic Regression With Mutual Information ____________________\n",
            "Logistic Regression :\n",
            "Recall train & test     : 86.47% & 82.14%\n",
            "Precision train & test  : 86.47% & 82.14%\n",
            "F1 Score train & test   : 86.47% & 82.14%\n"
          ]
        }
      ]
    },
    {
      "cell_type": "code",
      "metadata": {
        "id": "qwVN7yg9vIEd"
      },
      "source": [
        "SVM_mutual_info = svm.SVC(C=1.0, kernel='linear', degree=3, gamma='auto')\n",
        "SVM_mutual_info.fit(mutual_info_train_X,y_train)\n",
        "SVM_pred_mutual_info_train = SVM_mutual_info.predict(mutual_info_train_X)\n",
        "SVM_pred_mutual_info_test = SVM_mutual_info.predict(mutual_info_test_X)"
      ],
      "execution_count": 31,
      "outputs": []
    },
    {
      "cell_type": "code",
      "metadata": {
        "colab": {
          "base_uri": "https://localhost:8080/"
        },
        "id": "pvH6i8F8vQdb",
        "outputId": "f7b6df95-3af9-4cdc-b73a-1ebfda6c145c"
      },
      "source": [
        "print(\"___________________ SVM With Mutual Information ____________________\")\n",
        "\n",
        "SVM_recall_mutual_info_train = recall_score(y_train, SVM_pred_mutual_info_train, average=\"micro\")\n",
        "SVM_recall_mutual_info_test = recall_score(y_test, SVM_pred_mutual_info_test,average=\"micro\") \n",
        "\n",
        "SVM_precision_mutual_info_train = precision_score(y_train, SVM_pred_mutual_info_train,average=\"micro\")\n",
        "SVM_precision_mutual_info_test = precision_score(y_test, SVM_pred_mutual_info_test,average=\"micro\")\n",
        "\n",
        "SVM_f1_score_mutual_info_train = f1_score(y_train, SVM_pred_mutual_info_train,average=\"micro\")\n",
        "SVM_f1_score_mutual_info_test = f1_score(y_test, SVM_pred_mutual_info_test,average=\"micro\")\n",
        "\n",
        "print('Support Vector Machine :')\n",
        "print('Recall train & test     : %.2f%%' % (SVM_recall_mutual_info_train * 100), '&', '%.2f%%' % (SVM_recall_mutual_info_test * 100))\n",
        "print('Precision train & test  : %.2f%%' % (SVM_precision_mutual_info_train * 100), '&', '%.2f%%' % (SVM_precision_mutual_info_test * 100))\n",
        "print('F1 Score train & test   : %.2f%%' % (SVM_f1_score_mutual_info_train * 100), '&', '%.2f%%' % (SVM_f1_score_mutual_info_test * 100))"
      ],
      "execution_count": 32,
      "outputs": [
        {
          "output_type": "stream",
          "name": "stdout",
          "text": [
            "___________________ SVM With Mutual Information ____________________\n",
            "Support Vector Machine :\n",
            "Recall train & test     : 87.56% & 83.36%\n",
            "Precision train & test  : 87.56% & 83.36%\n",
            "F1 Score train & test   : 87.56% & 83.36%\n"
          ]
        }
      ]
    },
    {
      "cell_type": "code",
      "metadata": {
        "id": "5t6sjA4UwFNm"
      },
      "source": [
        "NB_mutual_info = naive_bayes.MultinomialNB()\n",
        "NB_mutual_info.fit(mutual_info_train_X,y_train)\n",
        "NB_pred_mutual_info_train = NB_mutual_info.predict(mutual_info_train_X)\n",
        "NB_pred_mutual_info_test = NB_mutual_info.predict(mutual_info_test_X)"
      ],
      "execution_count": 33,
      "outputs": []
    },
    {
      "cell_type": "code",
      "metadata": {
        "colab": {
          "base_uri": "https://localhost:8080/"
        },
        "id": "8ZFSBOynwNPv",
        "outputId": "a7962c8c-5fe4-4ae3-e439-03bfbf6be375"
      },
      "source": [
        "print(\"___________________  MultinomialNB With Mutual Information ____________________\")\n",
        "\n",
        "NB_recall_mutual_info_train = recall_score(y_train, NB_pred_mutual_info_train, average=\"micro\")\n",
        "NB_recall_mutual_info_test = recall_score(y_test, NB_pred_mutual_info_test,average=\"micro\") \n",
        "\n",
        "NB_precision_mutual_info_train = precision_score(y_train, NB_pred_mutual_info_train,average=\"micro\")\n",
        "NB_precision_mutual_info_test = precision_score(y_test, NB_pred_mutual_info_test,average=\"micro\")\n",
        "\n",
        "NB_f1_score_mutual_info_train = f1_score(y_train, NB_pred_mutual_info_train,average=\"micro\")\n",
        "NB_f1_score_mutual_info_test = f1_score(y_test, NB_pred_mutual_info_test,average=\"micro\")\n",
        "\n",
        "print('Multinomial Naive Bayes :')\n",
        "print('Recall train & test     : %.2f%%' % (NB_recall_mutual_info_train * 100), '&', '%.2f%%' % (NB_recall_mutual_info_test * 100))\n",
        "print('Precision train & test  : %.2f%%' % (NB_precision_mutual_info_train * 100), '&', '%.2f%%' % (NB_precision_mutual_info_test * 100))\n",
        "print('F1 Score train & test   : %.2f%%' % (NB_f1_score_mutual_info_train * 100), '&', '%.2f%%' % (NB_f1_score_mutual_info_test * 100))"
      ],
      "execution_count": 34,
      "outputs": [
        {
          "output_type": "stream",
          "name": "stdout",
          "text": [
            "___________________  MultinomialNB With Mutual Information ____________________\n",
            "Multinomial Naive Bayes :\n",
            "Recall train & test     : 67.90% & 63.01%\n",
            "Precision train & test  : 67.90% & 63.01%\n",
            "F1 Score train & test   : 67.90% & 63.01%\n"
          ]
        }
      ]
    },
    {
      "cell_type": "code",
      "metadata": {
        "id": "RBswmgFcw8H2"
      },
      "source": [
        "RF_mutual_info = RandomForestClassifier(n_estimators=100)\n",
        "RF_mutual_info.fit(mutual_info_train_X,y_train)\n",
        "RF_pred_mutual_info_train = RF_mutual_info.predict(mutual_info_train_X)\n",
        "RF_pred_mutual_info_test = RF_mutual_info.predict(mutual_info_test_X)"
      ],
      "execution_count": 35,
      "outputs": []
    },
    {
      "cell_type": "code",
      "metadata": {
        "colab": {
          "base_uri": "https://localhost:8080/"
        },
        "id": "45hCTXxPxAs6",
        "outputId": "08f2c0ba-81e3-4003-871d-cb8c58f7d887"
      },
      "source": [
        "print(\"___________________  Random Forest With Mutual Information ____________________\")\n",
        "\n",
        "RF_recall_mutual_info_train = recall_score(y_train, RF_pred_mutual_info_train, average=\"micro\")\n",
        "RF_recall_mutual_info_test = recall_score(y_test, RF_pred_mutual_info_test,average=\"micro\") \n",
        "\n",
        "RF_precision_mutual_info_train = precision_score(y_train, RF_pred_mutual_info_train,average=\"micro\")\n",
        "RF_precision_mutual_info_test = precision_score(y_test, RF_pred_mutual_info_test,average=\"micro\")\n",
        "\n",
        "RF_f1_score_mutual_info_train = f1_score(y_train, RF_pred_mutual_info_train,average=\"micro\")\n",
        "RF_f1_score_mutual_info_test = f1_score(y_test, RF_pred_mutual_info_test,average=\"micro\")\n",
        "\n",
        "print('Random Forest :')\n",
        "print('Recall train & test     : %.2f%%' % (RF_recall_mutual_info_train * 100), '&', '%.2f%%' % (RF_recall_mutual_info_test * 100))\n",
        "print('Precision train & test  : %.2f%%' % (RF_precision_mutual_info_train * 100), '&', '%.2f%%' % (RF_precision_mutual_info_test * 100))\n",
        "print('F1 Score train & test   : %.2f%%' % (RF_f1_score_mutual_info_train * 100), '&', '%.2f%%' % (RF_f1_score_mutual_info_test * 100))"
      ],
      "execution_count": 36,
      "outputs": [
        {
          "output_type": "stream",
          "name": "stdout",
          "text": [
            "___________________  Random Forest With Mutual Information ____________________\n",
            "Random Forest :\n",
            "Recall train & test     : 99.77% & 79.46%\n",
            "Precision train & test  : 99.77% & 79.46%\n",
            "F1 Score train & test   : 99.77% & 79.46%\n"
          ]
        }
      ]
    },
    {
      "cell_type": "markdown",
      "metadata": {
        "id": "aBCkztCkNpYz"
      },
      "source": [
        "Mutual_Info, Stacking With SVM as Meta Classifier"
      ]
    },
    {
      "cell_type": "code",
      "metadata": {
        "id": "JcP410u1Nwp9"
      },
      "source": [
        "clf1 = LogisticRegression()\n",
        "clf2 = RandomForestClassifier(random_state=1)\n",
        "clf3 = naive_bayes.MultinomialNB()\n",
        "SVM = svm.SVC(C=1.0, kernel='linear', degree=3, gamma='auto')\n",
        "sclf = StackingClassifier(classifiers=[clf1, clf2, clf3], \n",
        "                          meta_classifier=SVM)"
      ],
      "execution_count": 37,
      "outputs": []
    },
    {
      "cell_type": "code",
      "metadata": {
        "colab": {
          "base_uri": "https://localhost:8080/"
        },
        "id": "B9ev6nZZNzAc",
        "outputId": "bfa4c251-1eb5-4498-958d-a4b8c0c66163"
      },
      "source": [
        "print('3-fold cross validation:\\n')\n",
        "\n",
        "for clf, label in zip([clf1, clf2, clf3, sclf], \n",
        "                      ['Logistic Regression', \n",
        "                       'Random Forest', \n",
        "                       'Naive Bayes',\n",
        "                       'StackingClassifier SVM']):\n",
        "\n",
        "    scores = model_selection.cross_val_score(clf, mutual_info_train_X, y_train, \n",
        "                                              cv=3, scoring='accuracy')\n",
        "    print(\"Accuracy: %0.2f (+/- %0.2f) [%s]\" \n",
        "          % (scores.mean(), scores.std(), label))"
      ],
      "execution_count": 38,
      "outputs": [
        {
          "output_type": "stream",
          "name": "stdout",
          "text": [
            "3-fold cross validation:\n",
            "\n",
            "Accuracy: 0.80 (+/- 0.00) [Logistic Regression]\n",
            "Accuracy: 0.79 (+/- 0.00) [Random Forest]\n",
            "Accuracy: 0.61 (+/- 0.01) [Naive Bayes]\n",
            "Accuracy: 0.79 (+/- 0.00) [StackingClassifier SVM]\n"
          ]
        }
      ]
    },
    {
      "cell_type": "markdown",
      "metadata": {
        "id": "gbcePv-duF-U"
      },
      "source": [
        "Impelemntation of Chi Square"
      ]
    },
    {
      "cell_type": "code",
      "metadata": {
        "colab": {
          "base_uri": "https://localhost:8080/"
        },
        "id": "9s745x2BtbG5",
        "outputId": "28860d59-07b2-412f-b5b2-7ee8ef5e23d8"
      },
      "source": [
        "test = SelectKBest(score_func=chi2, k=3000)\n",
        "fit = test.fit(X_train, y_train)\n",
        "fit.scores_"
      ],
      "execution_count": 39,
      "outputs": [
        {
          "output_type": "execute_result",
          "data": {
            "text/plain": [
              "array([2.62803717, 2.11268971, 0.87853982, ..., 0.28399853, 1.34040848,\n",
              "       0.6507328 ])"
            ]
          },
          "metadata": {},
          "execution_count": 39
        }
      ]
    },
    {
      "cell_type": "code",
      "metadata": {
        "id": "tGl_el0Zv6Ii"
      },
      "source": [
        "ch_square_train_X= fit.transform(X_train)\n",
        "ch_square_test_X= fit.transform(X_test)"
      ],
      "execution_count": 40,
      "outputs": []
    },
    {
      "cell_type": "code",
      "metadata": {
        "id": "ESX8LT4vxDBg"
      },
      "source": [
        "Lr_chsquare = LogisticRegression()\n",
        "Lr_chsquare.fit(ch_square_train_X,y_train)\n",
        "Lr_pred_chsquare_train = Lr_chsquare.predict(ch_square_train_X)\n",
        "Lr_pred_chsquare_test = Lr_chsquare.predict(ch_square_test_X)"
      ],
      "execution_count": 41,
      "outputs": []
    },
    {
      "cell_type": "code",
      "metadata": {
        "colab": {
          "base_uri": "https://localhost:8080/"
        },
        "id": "Gm59l8UZnU5v",
        "outputId": "1b064551-de54-4ab0-df58-91b39f54699d"
      },
      "source": [
        "\n",
        "print(\"___________________ Logistic Regression With Chi-Square ____________________\")\n",
        "\n",
        "Lr_recall_chsquare_train = recall_score(y_train, Lr_pred_chsquare_train, average=\"micro\")\n",
        "Lr_recall_chsquare_test = recall_score(y_test, Lr_pred_chsquare_test,average=\"micro\") \n",
        "\n",
        "Lr_precision_chsquare_train = precision_score(y_train, Lr_pred_chsquare_train,average=\"micro\")\n",
        "Lr_precision_chsquare_test = precision_score(y_test, Lr_pred_chsquare_test,average=\"micro\")\n",
        "\n",
        "Lr_f1_score_chsquare_train = f1_score(y_train, Lr_pred_chsquare_train,average=\"micro\")\n",
        "Lr_f1_score_chsquare_test = f1_score(y_test, Lr_pred_chsquare_test,average=\"micro\")\n",
        "\n",
        "print('Logistic Regression :')\n",
        "print('Recall train & test     : %.2f%%' % (Lr_recall_chsquare_train * 100), '&', '%.2f%%' % (Lr_recall_chsquare_test * 100))\n",
        "print('Precision train & test  : %.2f%%' % (Lr_precision_chsquare_train * 100), '&', '%.2f%%' % (Lr_precision_chsquare_test * 100))\n",
        "print('F1 Score train & test   : %.2f%%' % (Lr_f1_score_chsquare_train * 100), '&', '%.2f%%' % (Lr_f1_score_chsquare_test * 100))"
      ],
      "execution_count": 42,
      "outputs": [
        {
          "output_type": "stream",
          "name": "stdout",
          "text": [
            "___________________ Logistic Regression With Chi-Square ____________________\n",
            "Logistic Regression :\n",
            "Recall train & test     : 86.54% & 82.67%\n",
            "Precision train & test  : 86.54% & 82.67%\n",
            "F1 Score train & test   : 86.54% & 82.67%\n"
          ]
        }
      ]
    },
    {
      "cell_type": "code",
      "metadata": {
        "id": "JUJnWhJwpUN9"
      },
      "source": [
        "SVM_chsquare = svm.SVC(C=1.0, kernel='linear', degree=3, gamma='auto')\n",
        "SVM_chsquare.fit(ch_square_train_X,y_train)\n",
        "SVM_pred_chsquare_train = SVM_chsquare.predict(ch_square_train_X)\n",
        "SVM_pred_chsquare_test = SVM_chsquare.predict(ch_square_test_X)"
      ],
      "execution_count": 43,
      "outputs": []
    },
    {
      "cell_type": "code",
      "metadata": {
        "colab": {
          "base_uri": "https://localhost:8080/"
        },
        "id": "qFEGqV-HpyKO",
        "outputId": "72d1782d-b0d6-4323-fbaf-3dcb03b50f50"
      },
      "source": [
        "print(\"___________________ SVM With Chi-Square ____________________\")\n",
        "\n",
        "SVM_recall_chsquare_train = recall_score(y_train, SVM_pred_chsquare_train, average=\"micro\")\n",
        "SVM_recall_chsquare_test = recall_score(y_test, SVM_pred_chsquare_test,average=\"micro\") \n",
        "\n",
        "SVM_precision_chsquare_train = precision_score(y_train, SVM_pred_chsquare_train,average=\"micro\")\n",
        "SVM_precision_chsquare_test = precision_score(y_test, SVM_pred_chsquare_test,average=\"micro\")\n",
        "\n",
        "SVM_f1_score_chsquare_train = f1_score(y_train, SVM_pred_chsquare_train,average=\"micro\")\n",
        "SVM_f1_score_chsquare_test = f1_score(y_test, SVM_pred_chsquare_test,average=\"micro\")\n",
        "\n",
        "print('Support Vector Machine :')\n",
        "print('Recall train & test     : %.2f%%' % (SVM_recall_chsquare_train * 100), '&', '%.2f%%' % (SVM_recall_chsquare_test * 100))\n",
        "print('Precision train & test  : %.2f%%' % (SVM_precision_chsquare_train * 100), '&', '%.2f%%' % (SVM_precision_chsquare_test * 100))\n",
        "print('F1 Score train & test   : %.2f%%' % (SVM_f1_score_chsquare_train * 100), '&', '%.2f%%' % (SVM_f1_score_chsquare_test * 100))"
      ],
      "execution_count": 44,
      "outputs": [
        {
          "output_type": "stream",
          "name": "stdout",
          "text": [
            "___________________ SVM With Chi-Square ____________________\n",
            "Support Vector Machine :\n",
            "Recall train & test     : 88.09% & 84.12%\n",
            "Precision train & test  : 88.09% & 84.12%\n",
            "F1 Score train & test   : 88.09% & 84.12%\n"
          ]
        }
      ]
    },
    {
      "cell_type": "code",
      "metadata": {
        "id": "mIhaK_jOjXXR"
      },
      "source": [
        "NB_chsquare = naive_bayes.MultinomialNB()\n",
        "NB_chsquare.fit(ch_square_train_X,y_train)\n",
        "NB_pred_chsquare_train = NB_chsquare.predict(ch_square_train_X)\n",
        "NB_pred_chsquare_test = NB_chsquare.predict(ch_square_test_X)"
      ],
      "execution_count": 45,
      "outputs": []
    },
    {
      "cell_type": "code",
      "metadata": {
        "colab": {
          "base_uri": "https://localhost:8080/"
        },
        "id": "FcuoJshlqrxp",
        "outputId": "711f1db8-34ba-46f8-9f58-2e8f54dd45ed"
      },
      "source": [
        "print(\"___________________  MultinomialNB()NB With Chi-Square ____________________\")\n",
        "\n",
        "NB_recall_chsquare_train = recall_score(y_train, NB_pred_chsquare_train, average=\"micro\")\n",
        "NB_recall_chsquare_test = recall_score(y_test, NB_pred_chsquare_test,average=\"micro\") \n",
        "\n",
        "NB_precision_chsquare_train = precision_score(y_train, NB_pred_chsquare_train,average=\"micro\")\n",
        "NB_precision_chsquare_test = precision_score(y_test, NB_pred_chsquare_test,average=\"micro\")\n",
        "\n",
        "NB_f1_score_chsquare_train = f1_score(y_train, NB_pred_chsquare_train,average=\"micro\")\n",
        "NB_f1_score_chsquare_test = f1_score(y_test, NB_pred_chsquare_test,average=\"micro\")\n",
        "\n",
        "print('Multinomial Naive Bayes :')\n",
        "print('Recall train & test     : %.2f%%' % (NB_recall_chsquare_train * 100), '&', '%.2f%%' % (NB_recall_chsquare_test * 100))\n",
        "print('Precision train & test  : %.2f%%' % (NB_precision_chsquare_train * 100), '&', '%.2f%%' % (NB_precision_chsquare_test * 100))\n",
        "print('F1 Score train & test   : %.2f%%' % (NB_f1_score_chsquare_train * 100), '&', '%.2f%%' % (NB_f1_score_chsquare_test * 100))"
      ],
      "execution_count": 46,
      "outputs": [
        {
          "output_type": "stream",
          "name": "stdout",
          "text": [
            "___________________  MultinomialNB()NB With Chi-Square ____________________\n",
            "Multinomial Naive Bayes :\n",
            "Recall train & test     : 62.38% & 57.70%\n",
            "Precision train & test  : 62.38% & 57.70%\n",
            "F1 Score train & test   : 62.38% & 57.70%\n"
          ]
        }
      ]
    },
    {
      "cell_type": "code",
      "metadata": {
        "id": "1ktfRgHorjN4"
      },
      "source": [
        "RF_chsquare = RandomForestClassifier(n_estimators=100)\n",
        "RF_chsquare.fit(ch_square_train_X,y_train)\n",
        "RF_pred_chsquare_train = RF_chsquare.predict(ch_square_train_X)\n",
        "RF_pred_chsquare_test = RF_chsquare.predict(ch_square_test_X)"
      ],
      "execution_count": 47,
      "outputs": []
    },
    {
      "cell_type": "code",
      "metadata": {
        "colab": {
          "base_uri": "https://localhost:8080/"
        },
        "id": "liT4t4amsVjU",
        "outputId": "12eaf425-cb98-43a0-a0c1-77ae415ada8d"
      },
      "source": [
        "print(\"___________________  Random Forest With Chi-Square ____________________\")\n",
        "\n",
        "RF_recall_chsquare_train = recall_score(y_train, RF_pred_chsquare_train, average=\"micro\")\n",
        "RF_recall_chsquare_test = recall_score(y_test, RF_pred_chsquare_test,average=\"micro\") \n",
        "\n",
        "RF_precision_chsquare_train = precision_score(y_train, RF_pred_chsquare_train,average=\"micro\")\n",
        "RF_precision_chsquare_test = precision_score(y_test, RF_pred_chsquare_test,average=\"micro\")\n",
        "\n",
        "RF_f1_score_chsquare_train = f1_score(y_train, RF_pred_chsquare_train,average=\"micro\")\n",
        "RF_f1_score_chsquare_test = f1_score(y_test, RF_pred_chsquare_test,average=\"micro\")\n",
        "\n",
        "print('Random Forest :')\n",
        "print('Recall train & test     : %.2f%%' % (RF_recall_chsquare_train * 100), '&', '%.2f%%' % (RF_recall_chsquare_test * 100))\n",
        "print('Precision train & test  : %.2f%%' % (RF_precision_chsquare_train * 100), '&', '%.2f%%' % (RF_precision_chsquare_test * 100))\n",
        "print('F1 Score train & test   : %.2f%%' % (RF_f1_score_chsquare_train * 100), '&', '%.2f%%' % (RF_f1_score_chsquare_test * 100))"
      ],
      "execution_count": 48,
      "outputs": [
        {
          "output_type": "stream",
          "name": "stdout",
          "text": [
            "___________________  Random Forest With Chi-Square ____________________\n",
            "Random Forest :\n",
            "Recall train & test     : 99.82% & 79.36%\n",
            "Precision train & test  : 99.82% & 79.36%\n",
            "F1 Score train & test   : 99.82% & 79.36%\n"
          ]
        }
      ]
    },
    {
      "cell_type": "markdown",
      "metadata": {
        "id": "-0-SXZ4cNMWv"
      },
      "source": [
        "Chi-Square, Stacking With SVM as Meta Classifier"
      ]
    },
    {
      "cell_type": "code",
      "metadata": {
        "id": "hfxe0L8zs5vL"
      },
      "source": [
        "clf1 = LogisticRegression()\n",
        "clf2 = RandomForestClassifier(random_state=1)\n",
        "clf3 = naive_bayes.MultinomialNB()\n",
        "SVM = svm.SVC(C=1.0, kernel='linear', degree=3, gamma='auto')\n",
        "sclf = StackingClassifier(classifiers=[clf1, clf2, clf3], \n",
        "                          meta_classifier=SVM)"
      ],
      "execution_count": 49,
      "outputs": []
    },
    {
      "cell_type": "code",
      "metadata": {
        "colab": {
          "base_uri": "https://localhost:8080/"
        },
        "id": "h2eO1_MsfVnM",
        "outputId": "0249f79c-de0d-4108-8352-398617b96cc9"
      },
      "source": [
        "print('3-fold cross validation:\\n')\n",
        "\n",
        "for clf, label in zip([clf1, clf2, clf3, sclf], \n",
        "                      ['Logistic Regression', \n",
        "                       'Random Forest', \n",
        "                       'Naive Bayes',\n",
        "                       'StackingClassifier SVM']):\n",
        "\n",
        "    scores = model_selection.cross_val_score(clf, ch_square_train_X, y_train, \n",
        "                                              cv=3, scoring='accuracy')\n",
        "    print(\"Accuracy: %0.2f (+/- %0.2f) [%s]\" \n",
        "          % (scores.mean(), scores.std(), label))"
      ],
      "execution_count": 50,
      "outputs": [
        {
          "output_type": "stream",
          "name": "stdout",
          "text": [
            "3-fold cross validation:\n",
            "\n",
            "Accuracy: 0.81 (+/- 0.00) [Logistic Regression]\n",
            "Accuracy: 0.79 (+/- 0.00) [Random Forest]\n",
            "Accuracy: 0.59 (+/- 0.00) [Naive Bayes]\n",
            "Accuracy: 0.79 (+/- 0.00) [StackingClassifier SVM]\n"
          ]
        }
      ]
    },
    {
      "cell_type": "code",
      "metadata": {
        "id": "RcvDP42TO56M"
      },
      "source": [
        ""
      ],
      "execution_count": null,
      "outputs": []
    }
  ]
}